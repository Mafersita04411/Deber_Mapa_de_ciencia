{
 "cells": [
  {
   "cell_type": "markdown",
   "id": "703101e3-9695-4850-af33-f323ccbba294",
   "metadata": {},
   "source": [
    "Deber N°2: Ejercicio 5.9.2 Map of Science\n",
    "\n",
    "María Fernanda Minango\n",
    "\n",
    "Basado en las sesiones de Visualización de datos y Expresiones resulares. Realice una adaptación de la solución del MAP OF SCIENCE. Se requiere dos adaptaciones para resolver esta actividad:\n",
    "\n",
    "Buscar bibliografía de un tema de interés propio en la Página Web de PubMed,\n",
    "Realizar el minado de autores por país (en el ejemplo se encuentra realziado por las ciudades de USA). Para asignar las ubicación geográfica de los centroides de cada país (latitud y longitud), utilice la tabla  Ubicación Geográfica de Países - Google Developer. Así como en la solución de referencia se señalan varias ciudades seleccionadas de USA, en su resolución señale/resalte a los siguientes países: USA, UK, Brazil, China, Australia, Norway.  \n",
    "Cargue su cuaderno de Jupyter en GitHub, asegurandose de lo siguiente:\n",
    "\n",
    "en el documento se puede ver con claridad el Mapa de Ciencia de su tema de interés.\n",
    "la figura tiene etiquetas adecuadas en los ejes de la visualización. \n",
    "se tiene al menos tres controles de la versión (3 commit con mensajes adecuados sobre la versión)"
   ]
  },
  {
   "cell_type": "code",
   "execution_count": 1,
   "id": "4333bb94-6edb-40db-9c2c-1562cb038d09",
   "metadata": {},
   "outputs": [],
   "source": [
    "#Se importan las librerias que se van a utilizar\n",
    "import math \n",
    "import matplotlib.pyplot as plt\n",
    "import pandas as pd\n",
    "import re\n",
    "import csv"
   ]
  },
  {
   "cell_type": "code",
   "execution_count": 2,
   "id": "38cb6807-098f-4bba-9967-28c0b027c541",
   "metadata": {},
   "outputs": [],
   "source": [
    "# Se abre el articvo tipo texto con la información a trabajar\n",
    "with open(\"pubmed-breastcanc-set.txt\", encoding= 'utf-8') as f:\n",
    "    my_text = f.read()"
   ]
  },
  {
   "cell_type": "code",
   "execution_count": 3,
   "id": "e83f7d3c-2044-4d28-9544-0e92cb96c9f3",
   "metadata": {},
   "outputs": [],
   "source": [
    "# Se realiza la busqueda del patron para encontrar los países\n",
    "paises = re.sub(r'\\n\\s{6}', ' ', my_text)\n",
    "datos = re.findall(r'\\,\\s([A-zA-Z]{2,11})\\.', paises)\n",
    "#print(datos)\n",
    "#print('Los 10 primeros caracteres de la lista de países son: ', datos[:10])"
   ]
  },
  {
   "cell_type": "code",
   "execution_count": 4,
   "id": "953df203-de8a-4624-8f2a-12742740de53",
   "metadata": {},
   "outputs": [],
   "source": [
    "#Se realiza el ordenamiento de datos\n",
    "unique_datos = list(datos)\n",
    "unique_datos.sort()\n",
    "#print(unique_datos)"
   ]
  },
  {
   "cell_type": "code",
   "execution_count": null,
   "id": "1cdf091b-f5d7-4200-9356-2f7af4ed8691",
   "metadata": {},
   "outputs": [],
   "source": []
  }
 ],
 "metadata": {
  "kernelspec": {
   "display_name": "Python 3",
   "language": "python",
   "name": "python3"
  },
  "language_info": {
   "codemirror_mode": {
    "name": "ipython",
    "version": 3
   },
   "file_extension": ".py",
   "mimetype": "text/x-python",
   "name": "python",
   "nbconvert_exporter": "python",
   "pygments_lexer": "ipython3",
   "version": "3.8.8"
  }
 },
 "nbformat": 4,
 "nbformat_minor": 5
}
