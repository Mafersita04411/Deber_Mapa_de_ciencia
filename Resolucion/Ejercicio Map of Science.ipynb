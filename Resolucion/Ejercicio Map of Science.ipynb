{
 "cells": [
  {
   "cell_type": "markdown",
   "id": "703101e3-9695-4850-af33-f323ccbba294",
   "metadata": {},
   "source": [
    "Deber N°2: Ejercicio 5.9.2 Map of Science\n",
    "\n",
    "María Fernanda Minango\n",
    "\n",
    "Basado en las sesiones de Visualización de datos y Expresiones resulares. Realice una adaptación de la solución del MAP OF SCIENCE. Se requiere dos adaptaciones para resolver esta actividad:\n",
    "\n",
    "Buscar bibliografía de un tema de interés propio en la Página Web de PubMed,\n",
    "Realizar el minado de autores por país (en el ejemplo se encuentra realziado por las ciudades de USA). Para asignar las ubicación geográfica de los centroides de cada país (latitud y longitud), utilice la tabla  Ubicación Geográfica de Países - Google Developer. Así como en la solución de referencia se señalan varias ciudades seleccionadas de USA, en su resolución señale/resalte a los siguientes países: USA, UK, Brazil, China, Australia, Norway.  \n",
    "Cargue su cuaderno de Jupyter en GitHub, asegurandose de lo siguiente:\n",
    "\n",
    "en el documento se puede ver con claridad el Mapa de Ciencia de su tema de interés.\n",
    "la figura tiene etiquetas adecuadas en los ejes de la visualización. \n",
    "se tiene al menos tres controles de la versión (3 commit con mensajes adecuados sobre la versión)"
   ]
  },
  {
   "cell_type": "code",
   "execution_count": 9,
   "id": "4333bb94-6edb-40db-9c2c-1562cb038d09",
   "metadata": {},
   "outputs": [],
   "source": [
    "#Se importan las librerias que se van a utilizar\n",
    "import math \n",
    "import matplotlib.pyplot as plt\n",
    "import pandas as pd\n",
    "import re\n",
    "import csv"
   ]
  },
  {
   "cell_type": "code",
   "execution_count": 10,
   "id": "38cb6807-098f-4bba-9967-28c0b027c541",
   "metadata": {},
   "outputs": [],
   "source": [
    "# Se abre el articvo tipo texto con la información a trabajar\n",
    "with open(\"pubmed-breastcanc-set.txt\", encoding= 'utf-8') as f:\n",
    "    my_text = f.read()"
   ]
  },
  {
   "cell_type": "code",
   "execution_count": 11,
   "id": "e83f7d3c-2044-4d28-9544-0e92cb96c9f3",
   "metadata": {},
   "outputs": [],
   "source": [
    "# Se realiza la busqueda del patron para encontrar los países\n",
    "paises = re.sub(r'\\n\\s{6}', ' ', my_text)\n",
    "datos = re.findall(r'\\,\\s([A-zA-Z]{2,11})\\.', paises)\n",
    "#print(datos)\n",
    "#print('Los 10 primeros caracteres de la lista de países son: ', datos[:10])"
   ]
  },
  {
   "cell_type": "code",
   "execution_count": 12,
   "id": "953df203-de8a-4624-8f2a-12742740de53",
   "metadata": {},
   "outputs": [],
   "source": [
    "#Se realiza el ordenamiento de datos\n",
    "unique_datos = list(datos)\n",
    "unique_datos.sort()\n",
    "#print(unique_datos)"
   ]
  },
  {
   "cell_type": "code",
   "execution_count": 13,
   "id": "1cdf091b-f5d7-4200-9356-2f7af4ed8691",
   "metadata": {},
   "outputs": [
    {
     "data": {
      "text/html": [
       "<div>\n",
       "<style scoped>\n",
       "    .dataframe tbody tr th:only-of-type {\n",
       "        vertical-align: middle;\n",
       "    }\n",
       "\n",
       "    .dataframe tbody tr th {\n",
       "        vertical-align: top;\n",
       "    }\n",
       "\n",
       "    .dataframe thead th {\n",
       "        text-align: right;\n",
       "    }\n",
       "</style>\n",
       "<table border=\"1\" class=\"dataframe\">\n",
       "  <thead>\n",
       "    <tr style=\"text-align: right;\">\n",
       "      <th></th>\n",
       "      <th>Country</th>\n",
       "      <th>Latitude</th>\n",
       "      <th>Longitude</th>\n",
       "      <th>Name</th>\n",
       "    </tr>\n",
       "  </thead>\n",
       "  <tbody>\n",
       "    <tr>\n",
       "      <th>0</th>\n",
       "      <td>AD</td>\n",
       "      <td>42.546245</td>\n",
       "      <td>1.601554</td>\n",
       "      <td>Andorra</td>\n",
       "    </tr>\n",
       "    <tr>\n",
       "      <th>1</th>\n",
       "      <td>AE</td>\n",
       "      <td>23.424076</td>\n",
       "      <td>53.847818</td>\n",
       "      <td>United Arab Emirates</td>\n",
       "    </tr>\n",
       "    <tr>\n",
       "      <th>2</th>\n",
       "      <td>AF</td>\n",
       "      <td>33.939110</td>\n",
       "      <td>67.709953</td>\n",
       "      <td>Afghanistan</td>\n",
       "    </tr>\n",
       "    <tr>\n",
       "      <th>3</th>\n",
       "      <td>AG</td>\n",
       "      <td>17.060816</td>\n",
       "      <td>-61.796428</td>\n",
       "      <td>Antigua and Barbuda</td>\n",
       "    </tr>\n",
       "    <tr>\n",
       "      <th>4</th>\n",
       "      <td>AI</td>\n",
       "      <td>18.220554</td>\n",
       "      <td>-63.068615</td>\n",
       "      <td>Anguilla</td>\n",
       "    </tr>\n",
       "    <tr>\n",
       "      <th>5</th>\n",
       "      <td>AL</td>\n",
       "      <td>41.153332</td>\n",
       "      <td>20.168331</td>\n",
       "      <td>Albania</td>\n",
       "    </tr>\n",
       "  </tbody>\n",
       "</table>\n",
       "</div>"
      ],
      "text/plain": [
       "  Country   Latitude  Longitude                  Name\n",
       "0      AD  42.546245   1.601554               Andorra\n",
       "1      AE  23.424076  53.847818  United Arab Emirates\n",
       "2      AF  33.939110  67.709953           Afghanistan\n",
       "3      AG  17.060816 -61.796428   Antigua and Barbuda\n",
       "4      AI  18.220554 -63.068615              Anguilla\n",
       "5      AL  41.153332  20.168331               Albania"
      ]
     },
     "execution_count": 13,
     "metadata": {},
     "output_type": "execute_result"
    }
   ],
   "source": [
    "# Se abre el archivo tipo texto para las coordenadas\n",
    "datos = pd.read_csv('Coordenadas de los países.txt', engine='python', skipfooter=3)\n",
    "datos.head(6)"
   ]
  },
  {
   "cell_type": "code",
   "execution_count": 7,
   "id": "f1853be4-76d1-4fe2-90d4-baebacc589d6",
   "metadata": {},
   "outputs": [],
   "source": [
    "# Los datos para la grafica son obtenidos\n",
    "nombre = datos[datos.Name.isin(unique_datos)]\n",
    "paisesdat = datos[datos.Country.isin(unique_datos)]\n",
    "completo = pd.concat([nombre,paisesdat]).drop_duplicates().sort_values('Name')"
   ]
  },
  {
   "cell_type": "code",
   "execution_count": 8,
   "id": "c17fa1a9-b556-459a-a44c-bc9645e943fe",
   "metadata": {},
   "outputs": [
    {
     "data": {
      "image/png": "[encoded data removed]",
      "text/plain": [
       "<Figure size 1296x864 with 2 Axes>"
      ]
     },
     "metadata": {
      "needs_background": "light"
     },
     "output_type": "display_data"
    }
   ],
   "source": [
    "# Se grafica utilizando los daos obtenido previamente\n",
    "import matplotlib.pyplot as plt\n",
    "plt.scatter(completo.Longitude, completo.Latitude, s=30, c=completo.Latitude)\n",
    "plt.colorbar()\n",
    "\n",
    "ard = dict(arrowstyle=\"->\")\n",
    "# Se escogieron los paises más repetidos para que sean representativos en el grafico\n",
    "plt.annotate('Australia', xy = (133.775136, -25.274398), \n",
    "               xytext = (133.775136, -22), arrowprops= ard)\n",
    "plt.annotate('Sweden', xy = (18.643501, 60.128161), \n",
    "               xytext = (18.643501, 40), arrowprops = ard)\n",
    "plt.annotate('Italy', xy = (12.56738, 41.87194), \n",
    "               xytext = (12.56738, 44), arrowprops= ard)\n",
    "plt.annotate('China', xy = (104.195397, 35.86166), \n",
    "               xytext = (104.195397, 39), arrowprops= ard)\n",
    "plt.annotate('Germany', xy = (10.451526, 51.165691), \n",
    "               xytext = (10.451526, 54), arrowprops= ard)\n",
    "plt.annotate('France', xy = (2.213749, 46.227638), \n",
    "               xytext = (2.213749, 49), arrowprops= ard)\n",
    "plt.annotate('Spain', xy = (-3.74922, 40.463667), \n",
    "               xytext = (-3.74922, 43), arrowprops= ard)\n",
    "\n",
    "# Se ajustan los paramtetros para graficar los datos\n",
    "params = plt.gcf()\n",
    "plSize = params.get_size_inches()\n",
    "params.set_size_inches( (plSize[0] * 3, plSize[1] * 3) )\n",
    "plt.show() "
   ]
  },
  {
   "cell_type": "code",
   "execution_count": null,
   "id": "a5bf6c42-c4f0-4fbc-af40-2711122df307",
   "metadata": {},
   "outputs": [],
   "source": []
  }
 ],
 "metadata": {
  "kernelspec": {
   "display_name": "Python 3",
   "language": "python",
   "name": "python3"
  },
  "language_info": {
   "codemirror_mode": {
    "name": "ipython",
    "version": 3
   },
   "file_extension": ".py",
   "mimetype": "text/x-python",
   "name": "python",
   "nbconvert_exporter": "python",
   "pygments_lexer": "ipython3",
   "version": "3.8.8"
  }
 },
 "nbformat": 4,
 "nbformat_minor": 5
}
